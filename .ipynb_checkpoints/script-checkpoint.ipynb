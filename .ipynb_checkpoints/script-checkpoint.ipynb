{
 "cells": [
  {
   "cell_type": "code",
   "execution_count": null,
   "id": "a30d6d17-dab3-4e39-8100-3328a890fe4e",
   "metadata": {},
   "outputs": [],
   "source": [
    "import codecademylib3_seaborn\n",
    "import pandas as pd\n",
    "import matplotlib.pyplot as plt\n",
    "from sklearn.model_selection import train_test_split\n",
    "from sklearn.linear_model import LinearRegression\n"
   ]
  },
  {
   "cell_type": "code",
   "execution_count": 1,
   "id": "44a9ea77-1bbd-4dde-8468-697723c309f7",
   "metadata": {},
   "outputs": [],
   "source": [
    "# load and investigate the data here:\n",
    "\n"
   ]
  },
  {
   "cell_type": "code",
   "execution_count": null,
   "id": "8cf22e99-309c-4e49-a183-f617a63532a2",
   "metadata": {},
   "outputs": [],
   "source": [
    "# perform exploratory analysis here:\n",
    "\n",
    "\n",
    "\n"
   ]
  },
  {
   "cell_type": "code",
   "execution_count": null,
   "id": "8f8827e1-bfc5-4a9d-a60b-e3bb037c376b",
   "metadata": {},
   "outputs": [],
   "source": [
    "## perform single feature linear regressions here:\n",
    "\n"
   ]
  },
  {
   "cell_type": "code",
   "execution_count": null,
   "id": "f1847f41-a9c0-44c0-a860-c2651f63b12f",
   "metadata": {},
   "outputs": [],
   "source": [
    "## perform two feature linear regressions here:\n",
    "\n"
   ]
  },
  {
   "cell_type": "code",
   "execution_count": null,
   "id": "862de80b-0e21-4bd6-8c30-7505a0bc0592",
   "metadata": {},
   "outputs": [],
   "source": [
    "## perform multiple feature linear regressions here:\n"
   ]
  }
 ],
 "metadata": {
  "kernelspec": {
   "display_name": "Python 3 (ipykernel)",
   "language": "python",
   "name": "python3"
  },
  "language_info": {
   "codemirror_mode": {
    "name": "ipython",
    "version": 3
   },
   "file_extension": ".py",
   "mimetype": "text/x-python",
   "name": "python",
   "nbconvert_exporter": "python",
   "pygments_lexer": "ipython3",
   "version": "3.11.7"
  }
 },
 "nbformat": 4,
 "nbformat_minor": 5
}
